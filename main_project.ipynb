{
 "cells": [
  {
   "cell_type": "markdown",
   "metadata": {},
   "source": [
    "## Python Data Analysis Project: Average Income of Taxi Drivers in New York City."
   ]
  },
  {
   "cell_type": "markdown",
   "metadata": {},
   "source": [
    "### Import libraries"
   ]
  },
  {
   "cell_type": "code",
   "execution_count": 204,
   "metadata": {},
   "outputs": [],
   "source": [
    "import pandas as pd\n",
    "import pyarrow as pa\n",
    "import matplotlib.pyplot as plt\n",
    "import seaborn as sns\n",
    "\n",
    "%matplotlib inline"
   ]
  },
  {
   "cell_type": "markdown",
   "metadata": {},
   "source": [
    "### Read parquet file using pandas"
   ]
  },
  {
   "cell_type": "code",
   "execution_count": 205,
   "metadata": {},
   "outputs": [],
   "source": [
    "parquet_file = 'yellow_tripdata_2019-01.parquet'\n",
    "df = pd.read_parquet(parquet_file, engine='auto')"
   ]
  },
  {
   "cell_type": "code",
   "execution_count": 206,
   "metadata": {},
   "outputs": [],
   "source": [
    "df = pd.read_parquet(parquet_file, engine='auto')"
   ]
  },
  {
   "cell_type": "code",
   "execution_count": 207,
   "metadata": {},
   "outputs": [],
   "source": [
    "pd.options.display.float_format = \"{:.2f}\".format"
   ]
  },
  {
   "cell_type": "code",
   "execution_count": 208,
   "metadata": {},
   "outputs": [
    {
     "name": "stdout",
     "output_type": "stream",
     "text": [
      "(7696617, 19)\n"
     ]
    },
    {
     "data": {
      "text/html": [
       "<div>\n",
       "<style scoped>\n",
       "    .dataframe tbody tr th:only-of-type {\n",
       "        vertical-align: middle;\n",
       "    }\n",
       "\n",
       "    .dataframe tbody tr th {\n",
       "        vertical-align: top;\n",
       "    }\n",
       "\n",
       "    .dataframe thead th {\n",
       "        text-align: right;\n",
       "    }\n",
       "</style>\n",
       "<table border=\"1\" class=\"dataframe\">\n",
       "  <thead>\n",
       "    <tr style=\"text-align: right;\">\n",
       "      <th></th>\n",
       "      <th>VendorID</th>\n",
       "      <th>tpep_pickup_datetime</th>\n",
       "      <th>tpep_dropoff_datetime</th>\n",
       "      <th>passenger_count</th>\n",
       "      <th>trip_distance</th>\n",
       "      <th>RatecodeID</th>\n",
       "      <th>store_and_fwd_flag</th>\n",
       "      <th>PULocationID</th>\n",
       "      <th>DOLocationID</th>\n",
       "      <th>payment_type</th>\n",
       "      <th>fare_amount</th>\n",
       "      <th>extra</th>\n",
       "      <th>mta_tax</th>\n",
       "      <th>tip_amount</th>\n",
       "      <th>tolls_amount</th>\n",
       "      <th>improvement_surcharge</th>\n",
       "      <th>total_amount</th>\n",
       "      <th>congestion_surcharge</th>\n",
       "      <th>airport_fee</th>\n",
       "    </tr>\n",
       "  </thead>\n",
       "  <tbody>\n",
       "    <tr>\n",
       "      <th>0</th>\n",
       "      <td>1</td>\n",
       "      <td>2019-01-01 00:46:40</td>\n",
       "      <td>2019-01-01 00:53:20</td>\n",
       "      <td>1.00</td>\n",
       "      <td>1.50</td>\n",
       "      <td>1.00</td>\n",
       "      <td>N</td>\n",
       "      <td>151</td>\n",
       "      <td>239</td>\n",
       "      <td>1</td>\n",
       "      <td>7.00</td>\n",
       "      <td>0.50</td>\n",
       "      <td>0.50</td>\n",
       "      <td>1.65</td>\n",
       "      <td>0.00</td>\n",
       "      <td>0.30</td>\n",
       "      <td>9.95</td>\n",
       "      <td>NaN</td>\n",
       "      <td>None</td>\n",
       "    </tr>\n",
       "    <tr>\n",
       "      <th>1</th>\n",
       "      <td>1</td>\n",
       "      <td>2019-01-01 00:59:47</td>\n",
       "      <td>2019-01-01 01:18:59</td>\n",
       "      <td>1.00</td>\n",
       "      <td>2.60</td>\n",
       "      <td>1.00</td>\n",
       "      <td>N</td>\n",
       "      <td>239</td>\n",
       "      <td>246</td>\n",
       "      <td>1</td>\n",
       "      <td>14.00</td>\n",
       "      <td>0.50</td>\n",
       "      <td>0.50</td>\n",
       "      <td>1.00</td>\n",
       "      <td>0.00</td>\n",
       "      <td>0.30</td>\n",
       "      <td>16.30</td>\n",
       "      <td>NaN</td>\n",
       "      <td>None</td>\n",
       "    </tr>\n",
       "    <tr>\n",
       "      <th>2</th>\n",
       "      <td>2</td>\n",
       "      <td>2018-12-21 13:48:30</td>\n",
       "      <td>2018-12-21 13:52:40</td>\n",
       "      <td>3.00</td>\n",
       "      <td>0.00</td>\n",
       "      <td>1.00</td>\n",
       "      <td>N</td>\n",
       "      <td>236</td>\n",
       "      <td>236</td>\n",
       "      <td>1</td>\n",
       "      <td>4.50</td>\n",
       "      <td>0.50</td>\n",
       "      <td>0.50</td>\n",
       "      <td>0.00</td>\n",
       "      <td>0.00</td>\n",
       "      <td>0.30</td>\n",
       "      <td>5.80</td>\n",
       "      <td>NaN</td>\n",
       "      <td>None</td>\n",
       "    </tr>\n",
       "    <tr>\n",
       "      <th>3</th>\n",
       "      <td>2</td>\n",
       "      <td>2018-11-28 15:52:25</td>\n",
       "      <td>2018-11-28 15:55:45</td>\n",
       "      <td>5.00</td>\n",
       "      <td>0.00</td>\n",
       "      <td>1.00</td>\n",
       "      <td>N</td>\n",
       "      <td>193</td>\n",
       "      <td>193</td>\n",
       "      <td>2</td>\n",
       "      <td>3.50</td>\n",
       "      <td>0.50</td>\n",
       "      <td>0.50</td>\n",
       "      <td>0.00</td>\n",
       "      <td>0.00</td>\n",
       "      <td>0.30</td>\n",
       "      <td>7.55</td>\n",
       "      <td>NaN</td>\n",
       "      <td>None</td>\n",
       "    </tr>\n",
       "    <tr>\n",
       "      <th>4</th>\n",
       "      <td>2</td>\n",
       "      <td>2018-11-28 15:56:57</td>\n",
       "      <td>2018-11-28 15:58:33</td>\n",
       "      <td>5.00</td>\n",
       "      <td>0.00</td>\n",
       "      <td>2.00</td>\n",
       "      <td>N</td>\n",
       "      <td>193</td>\n",
       "      <td>193</td>\n",
       "      <td>2</td>\n",
       "      <td>52.00</td>\n",
       "      <td>0.00</td>\n",
       "      <td>0.50</td>\n",
       "      <td>0.00</td>\n",
       "      <td>0.00</td>\n",
       "      <td>0.30</td>\n",
       "      <td>55.55</td>\n",
       "      <td>NaN</td>\n",
       "      <td>None</td>\n",
       "    </tr>\n",
       "  </tbody>\n",
       "</table>\n",
       "</div>"
      ],
      "text/plain": [
       "   VendorID tpep_pickup_datetime tpep_dropoff_datetime  passenger_count  \\\n",
       "0         1  2019-01-01 00:46:40   2019-01-01 00:53:20             1.00   \n",
       "1         1  2019-01-01 00:59:47   2019-01-01 01:18:59             1.00   \n",
       "2         2  2018-12-21 13:48:30   2018-12-21 13:52:40             3.00   \n",
       "3         2  2018-11-28 15:52:25   2018-11-28 15:55:45             5.00   \n",
       "4         2  2018-11-28 15:56:57   2018-11-28 15:58:33             5.00   \n",
       "\n",
       "   trip_distance  RatecodeID store_and_fwd_flag  PULocationID  DOLocationID  \\\n",
       "0           1.50        1.00                  N           151           239   \n",
       "1           2.60        1.00                  N           239           246   \n",
       "2           0.00        1.00                  N           236           236   \n",
       "3           0.00        1.00                  N           193           193   \n",
       "4           0.00        2.00                  N           193           193   \n",
       "\n",
       "   payment_type  fare_amount  extra  mta_tax  tip_amount  tolls_amount  \\\n",
       "0             1         7.00   0.50     0.50        1.65          0.00   \n",
       "1             1        14.00   0.50     0.50        1.00          0.00   \n",
       "2             1         4.50   0.50     0.50        0.00          0.00   \n",
       "3             2         3.50   0.50     0.50        0.00          0.00   \n",
       "4             2        52.00   0.00     0.50        0.00          0.00   \n",
       "\n",
       "   improvement_surcharge  total_amount  congestion_surcharge airport_fee  \n",
       "0                   0.30          9.95                   NaN        None  \n",
       "1                   0.30         16.30                   NaN        None  \n",
       "2                   0.30          5.80                   NaN        None  \n",
       "3                   0.30          7.55                   NaN        None  \n",
       "4                   0.30         55.55                   NaN        None  "
      ]
     },
     "execution_count": 208,
     "metadata": {},
     "output_type": "execute_result"
    }
   ],
   "source": [
    "print(df.shape)\n",
    "df.head()"
   ]
  },
  {
   "cell_type": "code",
   "execution_count": 209,
   "metadata": {},
   "outputs": [
    {
     "name": "stdout",
     "output_type": "stream",
     "text": [
      "<class 'pandas.core.frame.DataFrame'>\n",
      "RangeIndex: 7696617 entries, 0 to 7696616\n",
      "Data columns (total 19 columns):\n",
      " #   Column                 Dtype         \n",
      "---  ------                 -----         \n",
      " 0   VendorID               int64         \n",
      " 1   tpep_pickup_datetime   datetime64[us]\n",
      " 2   tpep_dropoff_datetime  datetime64[us]\n",
      " 3   passenger_count        float64       \n",
      " 4   trip_distance          float64       \n",
      " 5   RatecodeID             float64       \n",
      " 6   store_and_fwd_flag     object        \n",
      " 7   PULocationID           int64         \n",
      " 8   DOLocationID           int64         \n",
      " 9   payment_type           int64         \n",
      " 10  fare_amount            float64       \n",
      " 11  extra                  float64       \n",
      " 12  mta_tax                float64       \n",
      " 13  tip_amount             float64       \n",
      " 14  tolls_amount           float64       \n",
      " 15  improvement_surcharge  float64       \n",
      " 16  total_amount           float64       \n",
      " 17  congestion_surcharge   float64       \n",
      " 18  airport_fee            object        \n",
      "dtypes: datetime64[us](2), float64(11), int64(4), object(2)\n",
      "memory usage: 1.1+ GB\n"
     ]
    }
   ],
   "source": [
    "df.info()"
   ]
  },
  {
   "cell_type": "code",
   "execution_count": 210,
   "metadata": {},
   "outputs": [
    {
     "data": {
      "text/html": [
       "<div>\n",
       "<style scoped>\n",
       "    .dataframe tbody tr th:only-of-type {\n",
       "        vertical-align: middle;\n",
       "    }\n",
       "\n",
       "    .dataframe tbody tr th {\n",
       "        vertical-align: top;\n",
       "    }\n",
       "\n",
       "    .dataframe thead th {\n",
       "        text-align: right;\n",
       "    }\n",
       "</style>\n",
       "<table border=\"1\" class=\"dataframe\">\n",
       "  <thead>\n",
       "    <tr style=\"text-align: right;\">\n",
       "      <th></th>\n",
       "      <th>VendorID</th>\n",
       "      <th>tpep_pickup_datetime</th>\n",
       "      <th>tpep_dropoff_datetime</th>\n",
       "      <th>passenger_count</th>\n",
       "      <th>trip_distance</th>\n",
       "      <th>RatecodeID</th>\n",
       "      <th>PULocationID</th>\n",
       "      <th>DOLocationID</th>\n",
       "      <th>payment_type</th>\n",
       "      <th>fare_amount</th>\n",
       "      <th>extra</th>\n",
       "      <th>mta_tax</th>\n",
       "      <th>tip_amount</th>\n",
       "      <th>tolls_amount</th>\n",
       "      <th>improvement_surcharge</th>\n",
       "      <th>total_amount</th>\n",
       "      <th>congestion_surcharge</th>\n",
       "    </tr>\n",
       "  </thead>\n",
       "  <tbody>\n",
       "    <tr>\n",
       "      <th>count</th>\n",
       "      <td>7696617.00</td>\n",
       "      <td>7696617</td>\n",
       "      <td>7696617</td>\n",
       "      <td>7667945.00</td>\n",
       "      <td>7696617.00</td>\n",
       "      <td>7667945.00</td>\n",
       "      <td>7696617.00</td>\n",
       "      <td>7696617.00</td>\n",
       "      <td>7696617.00</td>\n",
       "      <td>7696617.00</td>\n",
       "      <td>7696617.00</td>\n",
       "      <td>7696617.00</td>\n",
       "      <td>7696617.00</td>\n",
       "      <td>7696617.00</td>\n",
       "      <td>7696617.00</td>\n",
       "      <td>7696617.00</td>\n",
       "      <td>2811730.00</td>\n",
       "    </tr>\n",
       "    <tr>\n",
       "      <th>mean</th>\n",
       "      <td>1.64</td>\n",
       "      <td>2019-01-17 00:56:26.319621</td>\n",
       "      <td>2019-01-17 01:12:59.384514</td>\n",
       "      <td>1.57</td>\n",
       "      <td>2.83</td>\n",
       "      <td>1.06</td>\n",
       "      <td>165.40</td>\n",
       "      <td>163.63</td>\n",
       "      <td>1.29</td>\n",
       "      <td>12.53</td>\n",
       "      <td>0.34</td>\n",
       "      <td>0.50</td>\n",
       "      <td>1.82</td>\n",
       "      <td>0.32</td>\n",
       "      <td>0.30</td>\n",
       "      <td>15.81</td>\n",
       "      <td>0.00</td>\n",
       "    </tr>\n",
       "    <tr>\n",
       "      <th>min</th>\n",
       "      <td>1.00</td>\n",
       "      <td>2001-02-02 14:55:07</td>\n",
       "      <td>2001-02-02 15:07:27</td>\n",
       "      <td>0.00</td>\n",
       "      <td>0.00</td>\n",
       "      <td>1.00</td>\n",
       "      <td>1.00</td>\n",
       "      <td>1.00</td>\n",
       "      <td>0.00</td>\n",
       "      <td>-362.00</td>\n",
       "      <td>-60.00</td>\n",
       "      <td>-0.50</td>\n",
       "      <td>-63.50</td>\n",
       "      <td>-70.00</td>\n",
       "      <td>-0.30</td>\n",
       "      <td>-362.80</td>\n",
       "      <td>0.00</td>\n",
       "    </tr>\n",
       "    <tr>\n",
       "      <th>25%</th>\n",
       "      <td>1.00</td>\n",
       "      <td>2019-01-09 17:39:43</td>\n",
       "      <td>2019-01-09 17:55:48</td>\n",
       "      <td>1.00</td>\n",
       "      <td>0.90</td>\n",
       "      <td>1.00</td>\n",
       "      <td>127.00</td>\n",
       "      <td>113.00</td>\n",
       "      <td>1.00</td>\n",
       "      <td>6.00</td>\n",
       "      <td>0.00</td>\n",
       "      <td>0.50</td>\n",
       "      <td>0.00</td>\n",
       "      <td>0.00</td>\n",
       "      <td>0.30</td>\n",
       "      <td>8.30</td>\n",
       "      <td>0.00</td>\n",
       "    </tr>\n",
       "    <tr>\n",
       "      <th>50%</th>\n",
       "      <td>2.00</td>\n",
       "      <td>2019-01-16 22:15:35</td>\n",
       "      <td>2019-01-16 22:30:08</td>\n",
       "      <td>1.00</td>\n",
       "      <td>1.53</td>\n",
       "      <td>1.00</td>\n",
       "      <td>162.00</td>\n",
       "      <td>162.00</td>\n",
       "      <td>1.00</td>\n",
       "      <td>9.00</td>\n",
       "      <td>0.00</td>\n",
       "      <td>0.50</td>\n",
       "      <td>1.40</td>\n",
       "      <td>0.00</td>\n",
       "      <td>0.30</td>\n",
       "      <td>11.30</td>\n",
       "      <td>0.00</td>\n",
       "    </tr>\n",
       "    <tr>\n",
       "      <th>75%</th>\n",
       "      <td>2.00</td>\n",
       "      <td>2019-01-24 19:12:20</td>\n",
       "      <td>2019-01-24 19:27:57</td>\n",
       "      <td>2.00</td>\n",
       "      <td>2.83</td>\n",
       "      <td>1.00</td>\n",
       "      <td>234.00</td>\n",
       "      <td>234.00</td>\n",
       "      <td>2.00</td>\n",
       "      <td>13.50</td>\n",
       "      <td>0.50</td>\n",
       "      <td>0.50</td>\n",
       "      <td>2.32</td>\n",
       "      <td>0.00</td>\n",
       "      <td>0.30</td>\n",
       "      <td>16.60</td>\n",
       "      <td>0.00</td>\n",
       "    </tr>\n",
       "    <tr>\n",
       "      <th>max</th>\n",
       "      <td>5.00</td>\n",
       "      <td>2088-01-24 00:25:39</td>\n",
       "      <td>2088-01-24 07:28:25</td>\n",
       "      <td>9.00</td>\n",
       "      <td>831.80</td>\n",
       "      <td>99.00</td>\n",
       "      <td>265.00</td>\n",
       "      <td>265.00</td>\n",
       "      <td>4.00</td>\n",
       "      <td>623259.86</td>\n",
       "      <td>535.38</td>\n",
       "      <td>60.80</td>\n",
       "      <td>787.25</td>\n",
       "      <td>3288.00</td>\n",
       "      <td>0.60</td>\n",
       "      <td>623261.66</td>\n",
       "      <td>2.50</td>\n",
       "    </tr>\n",
       "    <tr>\n",
       "      <th>std</th>\n",
       "      <td>0.54</td>\n",
       "      <td>NaN</td>\n",
       "      <td>NaN</td>\n",
       "      <td>1.22</td>\n",
       "      <td>3.77</td>\n",
       "      <td>0.68</td>\n",
       "      <td>66.44</td>\n",
       "      <td>70.41</td>\n",
       "      <td>0.48</td>\n",
       "      <td>261.59</td>\n",
       "      <td>0.53</td>\n",
       "      <td>0.05</td>\n",
       "      <td>2.50</td>\n",
       "      <td>2.03</td>\n",
       "      <td>0.02</td>\n",
       "      <td>261.81</td>\n",
       "      <td>0.01</td>\n",
       "    </tr>\n",
       "  </tbody>\n",
       "</table>\n",
       "</div>"
      ],
      "text/plain": [
       "        VendorID        tpep_pickup_datetime       tpep_dropoff_datetime  \\\n",
       "count 7696617.00                     7696617                     7696617   \n",
       "mean        1.64  2019-01-17 00:56:26.319621  2019-01-17 01:12:59.384514   \n",
       "min         1.00         2001-02-02 14:55:07         2001-02-02 15:07:27   \n",
       "25%         1.00         2019-01-09 17:39:43         2019-01-09 17:55:48   \n",
       "50%         2.00         2019-01-16 22:15:35         2019-01-16 22:30:08   \n",
       "75%         2.00         2019-01-24 19:12:20         2019-01-24 19:27:57   \n",
       "max         5.00         2088-01-24 00:25:39         2088-01-24 07:28:25   \n",
       "std         0.54                         NaN                         NaN   \n",
       "\n",
       "       passenger_count  trip_distance  RatecodeID  PULocationID  DOLocationID  \\\n",
       "count       7667945.00     7696617.00  7667945.00    7696617.00    7696617.00   \n",
       "mean              1.57           2.83        1.06        165.40        163.63   \n",
       "min               0.00           0.00        1.00          1.00          1.00   \n",
       "25%               1.00           0.90        1.00        127.00        113.00   \n",
       "50%               1.00           1.53        1.00        162.00        162.00   \n",
       "75%               2.00           2.83        1.00        234.00        234.00   \n",
       "max               9.00         831.80       99.00        265.00        265.00   \n",
       "std               1.22           3.77        0.68         66.44         70.41   \n",
       "\n",
       "       payment_type  fare_amount      extra    mta_tax  tip_amount  \\\n",
       "count    7696617.00   7696617.00 7696617.00 7696617.00  7696617.00   \n",
       "mean           1.29        12.53       0.34       0.50        1.82   \n",
       "min            0.00      -362.00     -60.00      -0.50      -63.50   \n",
       "25%            1.00         6.00       0.00       0.50        0.00   \n",
       "50%            1.00         9.00       0.00       0.50        1.40   \n",
       "75%            2.00        13.50       0.50       0.50        2.32   \n",
       "max            4.00    623259.86     535.38      60.80      787.25   \n",
       "std            0.48       261.59       0.53       0.05        2.50   \n",
       "\n",
       "       tolls_amount  improvement_surcharge  total_amount  congestion_surcharge  \n",
       "count    7696617.00             7696617.00    7696617.00            2811730.00  \n",
       "mean           0.32                   0.30         15.81                  0.00  \n",
       "min          -70.00                  -0.30       -362.80                  0.00  \n",
       "25%            0.00                   0.30          8.30                  0.00  \n",
       "50%            0.00                   0.30         11.30                  0.00  \n",
       "75%            0.00                   0.30         16.60                  0.00  \n",
       "max         3288.00                   0.60     623261.66                  2.50  \n",
       "std            2.03                   0.02        261.81                  0.01  "
      ]
     },
     "execution_count": 210,
     "metadata": {},
     "output_type": "execute_result"
    }
   ],
   "source": [
    "df.describe()"
   ]
  },
  {
   "cell_type": "markdown",
   "metadata": {},
   "source": [
    "## Checking for unique values in columns"
   ]
  },
  {
   "cell_type": "code",
   "execution_count": 211,
   "metadata": {},
   "outputs": [
    {
     "name": "stdout",
     "output_type": "stream",
     "text": [
      "payment_type : [0, 1, 2, 3, 4]\n",
      "RatecodeID : [1.0, 2.0, 3.0, 4.0, 5.0, 6.0, 99.0, nan]\n",
      "passenger_count : [0.0, 1.0, 2.0, 3.0, 4.0, 5.0, 6.0, 7.0, 8.0, 9.0, nan]\n"
     ]
    }
   ],
   "source": [
    "unique_list = ['payment_type', 'RatecodeID', 'passenger_count']\n",
    "\n",
    "for i in unique_list:\n",
    "    print(i, ':', sorted(df[i].unique()))"
   ]
  },
  {
   "cell_type": "code",
   "execution_count": 212,
   "metadata": {},
   "outputs": [
    {
     "data": {
      "text/plain": [
       "Index(['VendorID', 'tpep_pickup_datetime', 'tpep_dropoff_datetime',\n",
       "       'passenger_count', 'trip_distance', 'RatecodeID', 'store_and_fwd_flag',\n",
       "       'PULocationID', 'DOLocationID', 'payment_type', 'fare_amount', 'extra',\n",
       "       'mta_tax', 'tip_amount', 'tolls_amount', 'improvement_surcharge',\n",
       "       'total_amount', 'congestion_surcharge', 'airport_fee'],\n",
       "      dtype='object')"
      ]
     },
     "execution_count": 212,
     "metadata": {},
     "output_type": "execute_result"
    }
   ],
   "source": [
    "df.columns"
   ]
  },
  {
   "cell_type": "code",
   "execution_count": 213,
   "metadata": {},
   "outputs": [],
   "source": [
    "df = df[['VendorID', 'tpep_pickup_datetime', 'tpep_dropoff_datetime','passenger_count', 'trip_distance', \n",
    "         'RatecodeID','PULocationID', 'DOLocationID', 'payment_type',  'total_amount']]"
   ]
  },
  {
   "cell_type": "code",
   "execution_count": 214,
   "metadata": {},
   "outputs": [],
   "source": [
    "def outlier_detection_boxplot(data_0, data_1, data_2):\n",
    "    fig, axes = plt.subplots(1, 3, figsize=(15, 2))\n",
    "    fig.suptitle('Boxplots for outlier detection')\n",
    "    plt.xticks(fontsize=8)\n",
    "    sns.boxplot(ax=axes[0], x=data_0)\n",
    "    sns.boxplot(ax=axes[1], x=data_1)\n",
    "    sns.boxplot(ax=axes[2], x=data_2)\n",
    "    plt.show();"
   ]
  },
  {
   "cell_type": "code",
   "execution_count": 215,
   "metadata": {},
   "outputs": [
    {
     "data": {
      "image/png": "[encoded data removed]",
      "text/plain": [
       "<Figure size 1500x200 with 3 Axes>"
      ]
     },
     "metadata": {},
     "output_type": "display_data"
    }
   ],
   "source": [
    "outlier_detection_boxplot(df['tpep_pickup_datetime'], df['tpep_dropoff_datetime'], df['total_amount'])"
   ]
  },
  {
   "cell_type": "code",
   "execution_count": 216,
   "metadata": {},
   "outputs": [
    {
     "data": {
      "text/html": [
       "<div>\n",
       "<style scoped>\n",
       "    .dataframe tbody tr th:only-of-type {\n",
       "        vertical-align: middle;\n",
       "    }\n",
       "\n",
       "    .dataframe tbody tr th {\n",
       "        vertical-align: top;\n",
       "    }\n",
       "\n",
       "    .dataframe thead th {\n",
       "        text-align: right;\n",
       "    }\n",
       "</style>\n",
       "<table border=\"1\" class=\"dataframe\">\n",
       "  <thead>\n",
       "    <tr style=\"text-align: right;\">\n",
       "      <th></th>\n",
       "      <th>VendorID</th>\n",
       "      <th>tpep_pickup_datetime</th>\n",
       "      <th>tpep_dropoff_datetime</th>\n",
       "      <th>passenger_count</th>\n",
       "      <th>trip_distance</th>\n",
       "      <th>RatecodeID</th>\n",
       "      <th>PULocationID</th>\n",
       "      <th>DOLocationID</th>\n",
       "      <th>payment_type</th>\n",
       "      <th>total_amount</th>\n",
       "    </tr>\n",
       "  </thead>\n",
       "  <tbody>\n",
       "    <tr>\n",
       "      <th>count</th>\n",
       "      <td>7696617.00</td>\n",
       "      <td>7696617</td>\n",
       "      <td>7696617</td>\n",
       "      <td>7667945.00</td>\n",
       "      <td>7696617.00</td>\n",
       "      <td>7667945.00</td>\n",
       "      <td>7696617.00</td>\n",
       "      <td>7696617.00</td>\n",
       "      <td>7696617.00</td>\n",
       "      <td>7696617.00</td>\n",
       "    </tr>\n",
       "    <tr>\n",
       "      <th>mean</th>\n",
       "      <td>1.64</td>\n",
       "      <td>2019-01-17 00:56:26.319621</td>\n",
       "      <td>2019-01-17 01:12:59.384514</td>\n",
       "      <td>1.57</td>\n",
       "      <td>2.83</td>\n",
       "      <td>1.06</td>\n",
       "      <td>165.40</td>\n",
       "      <td>163.63</td>\n",
       "      <td>1.29</td>\n",
       "      <td>15.81</td>\n",
       "    </tr>\n",
       "    <tr>\n",
       "      <th>min</th>\n",
       "      <td>1.00</td>\n",
       "      <td>2001-02-02 14:55:07</td>\n",
       "      <td>2001-02-02 15:07:27</td>\n",
       "      <td>0.00</td>\n",
       "      <td>0.00</td>\n",
       "      <td>1.00</td>\n",
       "      <td>1.00</td>\n",
       "      <td>1.00</td>\n",
       "      <td>0.00</td>\n",
       "      <td>-362.80</td>\n",
       "    </tr>\n",
       "    <tr>\n",
       "      <th>25%</th>\n",
       "      <td>1.00</td>\n",
       "      <td>2019-01-09 17:39:43</td>\n",
       "      <td>2019-01-09 17:55:48</td>\n",
       "      <td>1.00</td>\n",
       "      <td>0.90</td>\n",
       "      <td>1.00</td>\n",
       "      <td>127.00</td>\n",
       "      <td>113.00</td>\n",
       "      <td>1.00</td>\n",
       "      <td>8.30</td>\n",
       "    </tr>\n",
       "    <tr>\n",
       "      <th>50%</th>\n",
       "      <td>2.00</td>\n",
       "      <td>2019-01-16 22:15:35</td>\n",
       "      <td>2019-01-16 22:30:08</td>\n",
       "      <td>1.00</td>\n",
       "      <td>1.53</td>\n",
       "      <td>1.00</td>\n",
       "      <td>162.00</td>\n",
       "      <td>162.00</td>\n",
       "      <td>1.00</td>\n",
       "      <td>11.30</td>\n",
       "    </tr>\n",
       "    <tr>\n",
       "      <th>75%</th>\n",
       "      <td>2.00</td>\n",
       "      <td>2019-01-24 19:12:20</td>\n",
       "      <td>2019-01-24 19:27:57</td>\n",
       "      <td>2.00</td>\n",
       "      <td>2.83</td>\n",
       "      <td>1.00</td>\n",
       "      <td>234.00</td>\n",
       "      <td>234.00</td>\n",
       "      <td>2.00</td>\n",
       "      <td>16.60</td>\n",
       "    </tr>\n",
       "    <tr>\n",
       "      <th>max</th>\n",
       "      <td>5.00</td>\n",
       "      <td>2088-01-24 00:25:39</td>\n",
       "      <td>2088-01-24 07:28:25</td>\n",
       "      <td>9.00</td>\n",
       "      <td>831.80</td>\n",
       "      <td>99.00</td>\n",
       "      <td>265.00</td>\n",
       "      <td>265.00</td>\n",
       "      <td>4.00</td>\n",
       "      <td>623261.66</td>\n",
       "    </tr>\n",
       "    <tr>\n",
       "      <th>std</th>\n",
       "      <td>0.54</td>\n",
       "      <td>NaN</td>\n",
       "      <td>NaN</td>\n",
       "      <td>1.22</td>\n",
       "      <td>3.77</td>\n",
       "      <td>0.68</td>\n",
       "      <td>66.44</td>\n",
       "      <td>70.41</td>\n",
       "      <td>0.48</td>\n",
       "      <td>261.81</td>\n",
       "    </tr>\n",
       "  </tbody>\n",
       "</table>\n",
       "</div>"
      ],
      "text/plain": [
       "        VendorID        tpep_pickup_datetime       tpep_dropoff_datetime  \\\n",
       "count 7696617.00                     7696617                     7696617   \n",
       "mean        1.64  2019-01-17 00:56:26.319621  2019-01-17 01:12:59.384514   \n",
       "min         1.00         2001-02-02 14:55:07         2001-02-02 15:07:27   \n",
       "25%         1.00         2019-01-09 17:39:43         2019-01-09 17:55:48   \n",
       "50%         2.00         2019-01-16 22:15:35         2019-01-16 22:30:08   \n",
       "75%         2.00         2019-01-24 19:12:20         2019-01-24 19:27:57   \n",
       "max         5.00         2088-01-24 00:25:39         2088-01-24 07:28:25   \n",
       "std         0.54                         NaN                         NaN   \n",
       "\n",
       "       passenger_count  trip_distance  RatecodeID  PULocationID  DOLocationID  \\\n",
       "count       7667945.00     7696617.00  7667945.00    7696617.00    7696617.00   \n",
       "mean              1.57           2.83        1.06        165.40        163.63   \n",
       "min               0.00           0.00        1.00          1.00          1.00   \n",
       "25%               1.00           0.90        1.00        127.00        113.00   \n",
       "50%               1.00           1.53        1.00        162.00        162.00   \n",
       "75%               2.00           2.83        1.00        234.00        234.00   \n",
       "max               9.00         831.80       99.00        265.00        265.00   \n",
       "std               1.22           3.77        0.68         66.44         70.41   \n",
       "\n",
       "       payment_type  total_amount  \n",
       "count    7696617.00    7696617.00  \n",
       "mean           1.29         15.81  \n",
       "min            0.00       -362.80  \n",
       "25%            1.00          8.30  \n",
       "50%            1.00         11.30  \n",
       "75%            2.00         16.60  \n",
       "max            4.00     623261.66  \n",
       "std            0.48        261.81  "
      ]
     },
     "execution_count": 216,
     "metadata": {},
     "output_type": "execute_result"
    }
   ],
   "source": [
    "# Dataset contains several outliers\n",
    "df.describe()"
   ]
  },
  {
   "cell_type": "markdown",
   "metadata": {},
   "source": [
    "## Determine number of rows containing outliers"
   ]
  },
  {
   "cell_type": "code",
   "execution_count": 217,
   "metadata": {},
   "outputs": [],
   "source": [
    "def outlier_limits(df, column):\n",
    "    # Compute the 25th percentile value in data\n",
    "    percentile25 = column.quantile(0.25)\n",
    "\n",
    "    # Compute the 25th percentile value in data\n",
    "    percentile25 = column.quantile(0.25)\n",
    "\n",
    "    # Compute the 75th percentile value data\n",
    "    percentile75 = column.quantile(0.75)\n",
    "\n",
    "    # Compute the interquantile range in data\n",
    "    iqr = percentile75 - percentile25\n",
    "\n",
    "    # Define the upper limit and lower limit for non-outlier values in data\n",
    "    upper_limit = percentile75 + 1.5 * iqr\n",
    "    lower_limit = percentile25 - 1.5 * iqr\n",
    "    print('lower limit:', lower_limit)\n",
    "    print('upper limit:', upper_limit)\n",
    "\n",
    "    # Identify subset of data containing outliers in data\n",
    "    outliers = df[(column > upper_limit) | (column < lower_limit)]\n",
    "\n",
    "    # Count how many rows in the data contain outliers in tpep_pickup_datetime\n",
    "    print('Number of rows in the data containing outliers:' , len(outliers))\n",
    "\n",
    "    return lower_limit, upper_limit\n"
   ]
  },
  {
   "cell_type": "code",
   "execution_count": 218,
   "metadata": {},
   "outputs": [
    {
     "name": "stdout",
     "output_type": "stream",
     "text": [
      "lower limit: 2018-12-18 03:20:47.500000\n",
      "upper limit: 2019-02-16 09:31:15.500000\n",
      "Number of rows in the data containing outliers: 113\n"
     ]
    }
   ],
   "source": [
    "lower_limit, upper_limit = outlier_limits(df, df['tpep_pickup_datetime'])"
   ]
  },
  {
   "cell_type": "markdown",
   "metadata": {},
   "source": [
    "## Getting rid of outliers"
   ]
  },
  {
   "cell_type": "code",
   "execution_count": 219,
   "metadata": {},
   "outputs": [],
   "source": [
    "df2 = df[(df['tpep_pickup_datetime'] >= lower_limit) & (df['tpep_pickup_datetime'] <= upper_limit)]"
   ]
  },
  {
   "cell_type": "code",
   "execution_count": 237,
   "metadata": {},
   "outputs": [
    {
     "name": "stdout",
     "output_type": "stream",
     "text": [
      "lower limit: 2018-12-18 04:27:46\n",
      "upper limit: 2019-02-16 09:42:02\n",
      "Number of rows in the data containing outliers: 0\n"
     ]
    }
   ],
   "source": [
    "# Repeat the process of outlier detection for tpep_dropoff_datetime column\n",
    "lower_limit, upper_limit = outlier_limits(df2, df2['tpep_dropoff_datetime'])"
   ]
  },
  {
   "cell_type": "code",
   "execution_count": 238,
   "metadata": {},
   "outputs": [
    {
     "name": "stdout",
     "output_type": "stream",
     "text": [
      "lower limit: -1.9450000000000003\n",
      "upper limit: 24.575000000000003\n",
      "Number of rows in the data containing outliers: 210351\n"
     ]
    }
   ],
   "source": [
    "# Outlier detection for total_amount\n",
    "lower_limit, upper_limit = outlier_limits(df2, df2['total_amount'])"
   ]
  },
  {
   "cell_type": "code",
   "execution_count": 239,
   "metadata": {},
   "outputs": [],
   "source": [
    "# Repeat the process of outlier filtering for total_amount column\n",
    "df2 = df2[(df2['total_amount'] >= lower_limit) & (df2['total_amount'] <= upper_limit)]"
   ]
  },
  {
   "cell_type": "code",
   "execution_count": 240,
   "metadata": {},
   "outputs": [
    {
     "data": {
      "text/html": [
       "<div>\n",
       "<style scoped>\n",
       "    .dataframe tbody tr th:only-of-type {\n",
       "        vertical-align: middle;\n",
       "    }\n",
       "\n",
       "    .dataframe tbody tr th {\n",
       "        vertical-align: top;\n",
       "    }\n",
       "\n",
       "    .dataframe thead th {\n",
       "        text-align: right;\n",
       "    }\n",
       "</style>\n",
       "<table border=\"1\" class=\"dataframe\">\n",
       "  <thead>\n",
       "    <tr style=\"text-align: right;\">\n",
       "      <th></th>\n",
       "      <th>VendorID</th>\n",
       "      <th>tpep_pickup_datetime</th>\n",
       "      <th>tpep_dropoff_datetime</th>\n",
       "      <th>passenger_count</th>\n",
       "      <th>trip_distance</th>\n",
       "      <th>RatecodeID</th>\n",
       "      <th>PULocationID</th>\n",
       "      <th>DOLocationID</th>\n",
       "      <th>payment_type</th>\n",
       "      <th>total_amount</th>\n",
       "    </tr>\n",
       "  </thead>\n",
       "  <tbody>\n",
       "    <tr>\n",
       "      <th>count</th>\n",
       "      <td>6707439.00</td>\n",
       "      <td>6707439</td>\n",
       "      <td>6707439</td>\n",
       "      <td>6707356.00</td>\n",
       "      <td>6707439.00</td>\n",
       "      <td>6707356.00</td>\n",
       "      <td>6707439.00</td>\n",
       "      <td>6707439.00</td>\n",
       "      <td>6707439.00</td>\n",
       "      <td>6707439.00</td>\n",
       "    </tr>\n",
       "    <tr>\n",
       "      <th>mean</th>\n",
       "      <td>1.63</td>\n",
       "      <td>2019-01-17 01:59:49.827458</td>\n",
       "      <td>2019-01-17 02:13:22.612839</td>\n",
       "      <td>1.57</td>\n",
       "      <td>1.69</td>\n",
       "      <td>1.01</td>\n",
       "      <td>167.54</td>\n",
       "      <td>166.06</td>\n",
       "      <td>1.30</td>\n",
       "      <td>11.36</td>\n",
       "    </tr>\n",
       "    <tr>\n",
       "      <th>min</th>\n",
       "      <td>1.00</td>\n",
       "      <td>2018-12-21 13:48:30</td>\n",
       "      <td>2018-12-21 13:52:40</td>\n",
       "      <td>0.00</td>\n",
       "      <td>0.00</td>\n",
       "      <td>1.00</td>\n",
       "      <td>1.00</td>\n",
       "      <td>1.00</td>\n",
       "      <td>0.00</td>\n",
       "      <td>0.11</td>\n",
       "    </tr>\n",
       "    <tr>\n",
       "      <th>25%</th>\n",
       "      <td>1.00</td>\n",
       "      <td>2019-01-09 18:00:54</td>\n",
       "      <td>2019-01-09 18:13:21</td>\n",
       "      <td>1.00</td>\n",
       "      <td>0.87</td>\n",
       "      <td>1.00</td>\n",
       "      <td>116.00</td>\n",
       "      <td>114.00</td>\n",
       "      <td>1.00</td>\n",
       "      <td>7.80</td>\n",
       "    </tr>\n",
       "    <tr>\n",
       "      <th>50%</th>\n",
       "      <td>2.00</td>\n",
       "      <td>2019-01-16 22:21:02</td>\n",
       "      <td>2019-01-16 22:33:17</td>\n",
       "      <td>1.00</td>\n",
       "      <td>1.38</td>\n",
       "      <td>1.00</td>\n",
       "      <td>163.00</td>\n",
       "      <td>163.00</td>\n",
       "      <td>1.00</td>\n",
       "      <td>10.38</td>\n",
       "    </tr>\n",
       "    <tr>\n",
       "      <th>75%</th>\n",
       "      <td>2.00</td>\n",
       "      <td>2019-01-24 19:19:09</td>\n",
       "      <td>2019-01-24 19:31:46</td>\n",
       "      <td>2.00</td>\n",
       "      <td>2.20</td>\n",
       "      <td>1.00</td>\n",
       "      <td>234.00</td>\n",
       "      <td>234.00</td>\n",
       "      <td>2.00</td>\n",
       "      <td>14.12</td>\n",
       "    </tr>\n",
       "    <tr>\n",
       "      <th>max</th>\n",
       "      <td>5.00</td>\n",
       "      <td>2019-02-04 09:21:50</td>\n",
       "      <td>2019-02-04 09:30:58</td>\n",
       "      <td>9.00</td>\n",
       "      <td>831.80</td>\n",
       "      <td>99.00</td>\n",
       "      <td>265.00</td>\n",
       "      <td>265.00</td>\n",
       "      <td>4.00</td>\n",
       "      <td>24.57</td>\n",
       "    </tr>\n",
       "    <tr>\n",
       "      <th>std</th>\n",
       "      <td>0.54</td>\n",
       "      <td>NaN</td>\n",
       "      <td>NaN</td>\n",
       "      <td>1.22</td>\n",
       "      <td>1.26</td>\n",
       "      <td>0.52</td>\n",
       "      <td>67.13</td>\n",
       "      <td>69.33</td>\n",
       "      <td>0.47</td>\n",
       "      <td>4.53</td>\n",
       "    </tr>\n",
       "  </tbody>\n",
       "</table>\n",
       "</div>"
      ],
      "text/plain": [
       "        VendorID        tpep_pickup_datetime       tpep_dropoff_datetime  \\\n",
       "count 6707439.00                     6707439                     6707439   \n",
       "mean        1.63  2019-01-17 01:59:49.827458  2019-01-17 02:13:22.612839   \n",
       "min         1.00         2018-12-21 13:48:30         2018-12-21 13:52:40   \n",
       "25%         1.00         2019-01-09 18:00:54         2019-01-09 18:13:21   \n",
       "50%         2.00         2019-01-16 22:21:02         2019-01-16 22:33:17   \n",
       "75%         2.00         2019-01-24 19:19:09         2019-01-24 19:31:46   \n",
       "max         5.00         2019-02-04 09:21:50         2019-02-04 09:30:58   \n",
       "std         0.54                         NaN                         NaN   \n",
       "\n",
       "       passenger_count  trip_distance  RatecodeID  PULocationID  DOLocationID  \\\n",
       "count       6707356.00     6707439.00  6707356.00    6707439.00    6707439.00   \n",
       "mean              1.57           1.69        1.01        167.54        166.06   \n",
       "min               0.00           0.00        1.00          1.00          1.00   \n",
       "25%               1.00           0.87        1.00        116.00        114.00   \n",
       "50%               1.00           1.38        1.00        163.00        163.00   \n",
       "75%               2.00           2.20        1.00        234.00        234.00   \n",
       "max               9.00         831.80       99.00        265.00        265.00   \n",
       "std               1.22           1.26        0.52         67.13         69.33   \n",
       "\n",
       "       payment_type  total_amount  \n",
       "count    6707439.00    6707439.00  \n",
       "mean           1.30         11.36  \n",
       "min            0.00          0.11  \n",
       "25%            1.00          7.80  \n",
       "50%            1.00         10.38  \n",
       "75%            2.00         14.12  \n",
       "max            4.00         24.57  \n",
       "std            0.47          4.53  "
      ]
     },
     "execution_count": 240,
     "metadata": {},
     "output_type": "execute_result"
    }
   ],
   "source": [
    "df2.describe()"
   ]
  },
  {
   "cell_type": "code",
   "execution_count": 249,
   "metadata": {},
   "outputs": [
    {
     "data": {
      "image/png": "[encoded data removed]",
      "text/plain": [
       "<Figure size 1500x200 with 3 Axes>"
      ]
     },
     "metadata": {},
     "output_type": "display_data"
    }
   ],
   "source": [
    "# Let's check for outliers\n",
    "outlier_detection_boxplot(df2['tpep_pickup_datetime'], df2['tpep_dropoff_datetime'], df2['total_amount'])"
   ]
  },
  {
   "cell_type": "markdown",
   "metadata": {},
   "source": [
    "There's still some outliers in the `total_amount` column"
   ]
  },
  {
   "cell_type": "code",
   "execution_count": 250,
   "metadata": {},
   "outputs": [
    {
     "name": "stdout",
     "output_type": "stream",
     "text": [
      "lower limit: -1.6799999999999988\n",
      "upper limit: 23.599999999999998\n",
      "Number of rows in the data containing outliers: 71246\n"
     ]
    }
   ],
   "source": [
    "lower_limit, upper_limit = outlier_limits(df2, df2['total_amount'])"
   ]
  },
  {
   "cell_type": "code",
   "execution_count": 251,
   "metadata": {},
   "outputs": [],
   "source": [
    "# Get rid of ouliers\n",
    "df2 = df2[(df2['total_amount'] >= lower_limit) & (df2['total_amount'] <= upper_limit)]"
   ]
  },
  {
   "cell_type": "code",
   "execution_count": 252,
   "metadata": {},
   "outputs": [
    {
     "data": {
      "image/png": "[encoded data removed]",
      "text/plain": [
       "<Figure size 1500x200 with 3 Axes>"
      ]
     },
     "metadata": {},
     "output_type": "display_data"
    }
   ],
   "source": [
    "# Check for outliers with boxplots\n",
    "outlier_detection_boxplot(df2['tpep_pickup_datetime'], df2['tpep_dropoff_datetime'], df2['total_amount'])"
   ]
  },
  {
   "cell_type": "markdown",
   "metadata": {},
   "source": [
    "Outliers are still present in `total_amount` column, let's get some new upper and lower limits"
   ]
  },
  {
   "cell_type": "code",
   "execution_count": 253,
   "metadata": {},
   "outputs": [
    {
     "name": "stdout",
     "output_type": "stream",
     "text": [
      "lower limit: -1.200000000000002\n",
      "upper limit: 22.800000000000004\n",
      "Number of rows in the data containing outliers: 48444\n"
     ]
    }
   ],
   "source": [
    "lower_limit, upper_limit = outlier_limits(df2, df2['total_amount'])"
   ]
  },
  {
   "cell_type": "code",
   "execution_count": 254,
   "metadata": {},
   "outputs": [],
   "source": [
    "# Getting rid of outliers one last time\n",
    "df2 = df2[(df2['total_amount'] >= lower_limit) & (df2['total_amount'] <= upper_limit)]"
   ]
  },
  {
   "cell_type": "code",
   "execution_count": 255,
   "metadata": {},
   "outputs": [
    {
     "data": {
      "image/png": "[encoded data removed]",
      "text/plain": [
       "<Figure size 1500x200 with 3 Axes>"
      ]
     },
     "metadata": {},
     "output_type": "display_data"
    }
   ],
   "source": [
    "# Making sure that no outliers remained in total_amount column\n",
    "outlier_detection_boxplot(df2['tpep_pickup_datetime'], df2['tpep_dropoff_datetime'], df2['total_amount'])"
   ]
  },
  {
   "cell_type": "code",
   "execution_count": 258,
   "metadata": {},
   "outputs": [
    {
     "data": {
      "text/plain": [
       "(6587749, 10)"
      ]
     },
     "execution_count": 258,
     "metadata": {},
     "output_type": "execute_result"
    }
   ],
   "source": [
    "df2.shape"
   ]
  },
  {
   "cell_type": "markdown",
   "metadata": {},
   "source": [
    "## Checking for NULL values"
   ]
  },
  {
   "cell_type": "code",
   "execution_count": 259,
   "metadata": {},
   "outputs": [
    {
     "data": {
      "text/plain": [
       "VendorID                  0\n",
       "tpep_pickup_datetime      0\n",
       "tpep_dropoff_datetime     0\n",
       "passenger_count          80\n",
       "trip_distance             0\n",
       "RatecodeID               80\n",
       "PULocationID              0\n",
       "DOLocationID              0\n",
       "payment_type              0\n",
       "total_amount              0\n",
       "dtype: int64"
      ]
     },
     "execution_count": 259,
     "metadata": {},
     "output_type": "execute_result"
    }
   ],
   "source": [
    "df2.isna().sum()"
   ]
  },
  {
   "cell_type": "markdown",
   "metadata": {},
   "source": [
    "## Checking for duplicates"
   ]
  },
  {
   "cell_type": "code",
   "execution_count": 260,
   "metadata": {},
   "outputs": [
    {
     "data": {
      "text/plain": [
       "0"
      ]
     },
     "execution_count": 260,
     "metadata": {},
     "output_type": "execute_result"
    }
   ],
   "source": [
    "df2.duplicated().sum()"
   ]
  }
 ],
 "metadata": {
  "kernelspec": {
   "display_name": "Python 3",
   "language": "python",
   "name": "python3"
  },
  "language_info": {
   "codemirror_mode": {
    "name": "ipython",
    "version": 3
   },
   "file_extension": ".py",
   "mimetype": "text/x-python",
   "name": "python",
   "nbconvert_exporter": "python",
   "pygments_lexer": "ipython3",
   "version": "3.11.9"
  }
 },
 "nbformat": 4,
 "nbformat_minor": 2
}
